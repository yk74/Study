{
 "cells": [
  {
   "cell_type": "code",
   "execution_count": 16,
   "metadata": {
    "ExecuteTime": {
     "end_time": "2021-12-02T08:48:49.090075Z",
     "start_time": "2021-12-02T08:48:49.020264Z"
    }
   },
   "outputs": [
    {
     "data": {
      "text/html": [
       "<div>\n",
       "<style scoped>\n",
       "    .dataframe tbody tr th:only-of-type {\n",
       "        vertical-align: middle;\n",
       "    }\n",
       "\n",
       "    .dataframe tbody tr th {\n",
       "        vertical-align: top;\n",
       "    }\n",
       "\n",
       "    .dataframe thead th {\n",
       "        text-align: right;\n",
       "    }\n",
       "</style>\n",
       "<table border=\"1\" class=\"dataframe\">\n",
       "  <thead>\n",
       "    <tr style=\"text-align: right;\">\n",
       "      <th></th>\n",
       "      <th>CRIM</th>\n",
       "      <th>ZN</th>\n",
       "      <th>INDUS</th>\n",
       "      <th>CHAS</th>\n",
       "      <th>NOX</th>\n",
       "      <th>RM</th>\n",
       "      <th>AGE</th>\n",
       "      <th>DIS</th>\n",
       "      <th>RAD</th>\n",
       "      <th>TAX</th>\n",
       "      <th>PTRATIO</th>\n",
       "      <th>B</th>\n",
       "      <th>LSTAT</th>\n",
       "      <th>MEDV</th>\n",
       "    </tr>\n",
       "  </thead>\n",
       "  <tbody>\n",
       "    <tr>\n",
       "      <th>0</th>\n",
       "      <td>0.00632</td>\n",
       "      <td>18.0</td>\n",
       "      <td>2.31</td>\n",
       "      <td>0</td>\n",
       "      <td>0.538</td>\n",
       "      <td>6.575</td>\n",
       "      <td>65.2</td>\n",
       "      <td>4.0900</td>\n",
       "      <td>1</td>\n",
       "      <td>296</td>\n",
       "      <td>15.3</td>\n",
       "      <td>396.90</td>\n",
       "      <td>4.98</td>\n",
       "      <td>24.0</td>\n",
       "    </tr>\n",
       "    <tr>\n",
       "      <th>1</th>\n",
       "      <td>0.02731</td>\n",
       "      <td>0.0</td>\n",
       "      <td>7.07</td>\n",
       "      <td>0</td>\n",
       "      <td>0.469</td>\n",
       "      <td>6.421</td>\n",
       "      <td>78.9</td>\n",
       "      <td>4.9671</td>\n",
       "      <td>2</td>\n",
       "      <td>242</td>\n",
       "      <td>17.8</td>\n",
       "      <td>396.90</td>\n",
       "      <td>9.14</td>\n",
       "      <td>21.6</td>\n",
       "    </tr>\n",
       "    <tr>\n",
       "      <th>2</th>\n",
       "      <td>0.02729</td>\n",
       "      <td>0.0</td>\n",
       "      <td>7.07</td>\n",
       "      <td>0</td>\n",
       "      <td>0.469</td>\n",
       "      <td>7.185</td>\n",
       "      <td>61.1</td>\n",
       "      <td>4.9671</td>\n",
       "      <td>2</td>\n",
       "      <td>242</td>\n",
       "      <td>17.8</td>\n",
       "      <td>392.83</td>\n",
       "      <td>4.03</td>\n",
       "      <td>34.7</td>\n",
       "    </tr>\n",
       "    <tr>\n",
       "      <th>3</th>\n",
       "      <td>0.03237</td>\n",
       "      <td>0.0</td>\n",
       "      <td>2.18</td>\n",
       "      <td>0</td>\n",
       "      <td>0.458</td>\n",
       "      <td>6.998</td>\n",
       "      <td>45.8</td>\n",
       "      <td>6.0622</td>\n",
       "      <td>3</td>\n",
       "      <td>222</td>\n",
       "      <td>18.7</td>\n",
       "      <td>394.63</td>\n",
       "      <td>2.94</td>\n",
       "      <td>33.4</td>\n",
       "    </tr>\n",
       "    <tr>\n",
       "      <th>4</th>\n",
       "      <td>0.06905</td>\n",
       "      <td>0.0</td>\n",
       "      <td>2.18</td>\n",
       "      <td>0</td>\n",
       "      <td>0.458</td>\n",
       "      <td>7.147</td>\n",
       "      <td>54.2</td>\n",
       "      <td>6.0622</td>\n",
       "      <td>3</td>\n",
       "      <td>222</td>\n",
       "      <td>18.7</td>\n",
       "      <td>396.90</td>\n",
       "      <td>5.33</td>\n",
       "      <td>36.2</td>\n",
       "    </tr>\n",
       "  </tbody>\n",
       "</table>\n",
       "</div>"
      ],
      "text/plain": [
       "      CRIM    ZN  INDUS  CHAS    NOX     RM   AGE     DIS  RAD  TAX  PTRATIO  \\\n",
       "0  0.00632  18.0   2.31     0  0.538  6.575  65.2  4.0900    1  296     15.3   \n",
       "1  0.02731   0.0   7.07     0  0.469  6.421  78.9  4.9671    2  242     17.8   \n",
       "2  0.02729   0.0   7.07     0  0.469  7.185  61.1  4.9671    2  242     17.8   \n",
       "3  0.03237   0.0   2.18     0  0.458  6.998  45.8  6.0622    3  222     18.7   \n",
       "4  0.06905   0.0   2.18     0  0.458  7.147  54.2  6.0622    3  222     18.7   \n",
       "\n",
       "        B  LSTAT  MEDV  \n",
       "0  396.90   4.98  24.0  \n",
       "1  396.90   9.14  21.6  \n",
       "2  392.83   4.03  34.7  \n",
       "3  394.63   2.94  33.4  \n",
       "4  396.90   5.33  36.2  "
      ]
     },
     "execution_count": 16,
     "metadata": {},
     "output_type": "execute_result"
    }
   ],
   "source": [
    "### 작업형1 1번 문제 ###\n",
    "\n",
    "import pandas as pd\n",
    "\n",
    "df = pd.read_csv('boston.csv')\n",
    "\n",
    "df.head()"
   ]
  },
  {
   "cell_type": "code",
   "execution_count": 26,
   "metadata": {
    "ExecuteTime": {
     "end_time": "2021-12-02T09:15:13.470382Z",
     "start_time": "2021-12-02T09:15:13.454292Z"
    }
   },
   "outputs": [
    {
     "name": "stdout",
     "output_type": "stream",
     "text": [
      "5.759386624999999\n"
     ]
    }
   ],
   "source": [
    "a = df.sort_values(by='CRIM', ascending = False)\n",
    "a.iloc[:9,0] = a['CRIM'].iloc[9]\n",
    "b = a[a['AGE']>=80]\n",
    "c = b['CRIM'].mean()\n",
    "print(c)"
   ]
  },
  {
   "cell_type": "code",
   "execution_count": 34,
   "metadata": {
    "ExecuteTime": {
     "end_time": "2021-12-02T10:37:13.697962Z",
     "start_time": "2021-12-02T10:37:13.591248Z"
    }
   },
   "outputs": [],
   "source": [
    "### 작업형1 2번 문제 ###\n",
    "\n",
    "import pandas as pd\n",
    "\n",
    "df1 = pd.read_csv('housing.csv')\n",
    "\n",
    "# df1"
   ]
  },
  {
   "cell_type": "code",
   "execution_count": 49,
   "metadata": {
    "ExecuteTime": {
     "end_time": "2021-12-02T10:48:49.372576Z",
     "start_time": "2021-12-02T10:48:49.349673Z"
    }
   },
   "outputs": [
    {
     "name": "stdout",
     "output_type": "stream",
     "text": [
      "1.975147291645726\n"
     ]
    }
   ],
   "source": [
    "import numpy as np\n",
    "from sklearn.model_selection import train_test_split\n",
    "\n",
    "tr, te =  train_test_split(df1, test_size = 0.2, shuffle=False)\n",
    "# print(tr.isnull().sum())\n",
    "tr1 = tr.copy()\n",
    "tr1['total_bedrooms'] = tr1['total_bedrooms'].fillna(tr1['total_bedrooms'].median())\n",
    "Ans = abs(tr['total_bedrooms'].std() - tr1['total_bedrooms'].std())\n",
    "print(Ans)"
   ]
  },
  {
   "cell_type": "code",
   "execution_count": 50,
   "metadata": {
    "ExecuteTime": {
     "end_time": "2021-12-02T10:52:24.454363Z",
     "start_time": "2021-12-02T10:52:24.414319Z"
    }
   },
   "outputs": [
    {
     "name": "stdout",
     "output_type": "stream",
     "text": [
      "   age     sex     bmi  children smoker     region      charges\n",
      "0   19  female  27.900         0    yes  southwest  16884.92400\n",
      "1   18    male  33.770         1     no  southeast   1725.55230\n",
      "2   28    male  33.000         3     no  southeast   4449.46200\n",
      "3   33    male  22.705         0     no  northwest  21984.47061\n",
      "4   32    male  28.880         0     no  northwest   3866.85520\n"
     ]
    }
   ],
   "source": [
    "### 작업형1 3번 문제 ###\n",
    "\n",
    "import pandas as pd\n",
    "\n",
    "df2 = pd.read_csv('insurance.csv')\n",
    "\n",
    "print(df2.head())"
   ]
  },
  {
   "cell_type": "code",
   "execution_count": 54,
   "metadata": {
    "ExecuteTime": {
     "end_time": "2021-12-02T11:05:59.798405Z",
     "start_time": "2021-12-02T11:05:59.785443Z"
    }
   },
   "outputs": [
    {
     "name": "stdout",
     "output_type": "stream",
     "text": [
      "6421430.0206699995\n"
     ]
    }
   ],
   "source": [
    "outlier_sum = df2[df2['charges'] >= (df2['charges'].mean() + 1.5*df2['charges'].std())]['charges'].sum()\n",
    "\n",
    "print(outlier_sum)"
   ]
  },
  {
   "cell_type": "code",
   "execution_count": 128,
   "metadata": {
    "ExecuteTime": {
     "end_time": "2021-12-02T14:38:34.858257Z",
     "start_time": "2021-12-02T14:38:34.787619Z"
    }
   },
   "outputs": [
    {
     "name": "stdout",
     "output_type": "stream",
     "text": [
      "Index(['ID', 'Reached.on.Time_Y.N'], dtype='object')\n"
     ]
    }
   ],
   "source": [
    "### 작업형2 문제 ###\n",
    "\n",
    "import pandas as pd\n",
    "\n",
    "X_tr = pd.read_csv('X_tr.csv')\n",
    "X_te = pd.read_csv('X_te.csv')\n",
    "y_tr = pd.read_csv('y_tr.csv')\n",
    "\n",
    "print(y_tr.columns)"
   ]
  },
  {
   "cell_type": "code",
   "execution_count": 61,
   "metadata": {
    "ExecuteTime": {
     "end_time": "2021-12-02T12:05:00.105332Z",
     "start_time": "2021-12-02T12:05:00.076412Z"
    },
    "scrolled": true
   },
   "outputs": [
    {
     "name": "stdout",
     "output_type": "stream",
     "text": [
      "<class 'pandas.core.frame.DataFrame'>\n",
      "RangeIndex: 6598 entries, 0 to 6597\n",
      "Data columns (total 11 columns):\n",
      "ID                     6598 non-null int64\n",
      "Warehouse_block        6598 non-null object\n",
      "Mode_of_Shipment       6598 non-null object\n",
      "Customer_care_calls    6598 non-null object\n",
      "Customer_rating        6598 non-null int64\n",
      "Cost_of_the_Product    6598 non-null int64\n",
      "Prior_purchases        6598 non-null int64\n",
      "Product_importance     6598 non-null object\n",
      "Gender                 6598 non-null object\n",
      "Discount_offered       6598 non-null int64\n",
      "Weight_in_gms          6598 non-null int64\n",
      "dtypes: int64(6), object(5)\n",
      "memory usage: 567.1+ KB\n",
      "None\n"
     ]
    }
   ],
   "source": [
    "print(X_tr.info())"
   ]
  },
  {
   "cell_type": "code",
   "execution_count": 114,
   "metadata": {
    "ExecuteTime": {
     "end_time": "2021-12-02T14:09:01.175087Z",
     "start_time": "2021-12-02T14:09:01.157069Z"
    }
   },
   "outputs": [
    {
     "name": "stdout",
     "output_type": "stream",
     "text": [
      "<class 'pandas.core.frame.DataFrame'>\n",
      "RangeIndex: 6598 entries, 0 to 6597\n",
      "Data columns (total 2 columns):\n",
      "ID                     6598 non-null int64\n",
      "Reached.on.Time_Y.N    6598 non-null int64\n",
      "dtypes: int64(2)\n",
      "memory usage: 103.2 KB\n",
      "None\n"
     ]
    }
   ],
   "source": [
    "print(y_tr.info())"
   ]
  },
  {
   "cell_type": "code",
   "execution_count": 129,
   "metadata": {
    "ExecuteTime": {
     "end_time": "2021-12-02T14:38:41.445106Z",
     "start_time": "2021-12-02T14:38:41.428121Z"
    }
   },
   "outputs": [],
   "source": [
    "y_tr1 = y_tr.drop(columns='ID')"
   ]
  },
  {
   "cell_type": "code",
   "execution_count": 89,
   "metadata": {
    "ExecuteTime": {
     "end_time": "2021-12-02T12:48:14.023051Z",
     "start_time": "2021-12-02T12:48:14.004102Z"
    },
    "scrolled": false
   },
   "outputs": [],
   "source": [
    "# print(X_tr)"
   ]
  },
  {
   "cell_type": "code",
   "execution_count": 130,
   "metadata": {
    "ExecuteTime": {
     "end_time": "2021-12-02T14:38:46.267733Z",
     "start_time": "2021-12-02T14:38:46.218844Z"
    }
   },
   "outputs": [
    {
     "name": "stdout",
     "output_type": "stream",
     "text": [
      "<class 'pandas.core.frame.DataFrame'>\n",
      "RangeIndex: 6598 entries, 0 to 6597\n",
      "Data columns (total 11 columns):\n",
      "ID                     6598 non-null int64\n",
      "Warehouse_block        6598 non-null object\n",
      "Mode_of_Shipment       6598 non-null object\n",
      "Customer_care_calls    6598 non-null int32\n",
      "Customer_rating        6598 non-null int64\n",
      "Cost_of_the_Product    6598 non-null int64\n",
      "Prior_purchases        6598 non-null int64\n",
      "Product_importance     6598 non-null object\n",
      "Gender                 6598 non-null object\n",
      "Discount_offered       6598 non-null int64\n",
      "Weight_in_gms          6598 non-null int64\n",
      "dtypes: int32(1), int64(6), object(4)\n",
      "memory usage: 541.3+ KB\n",
      "None\n"
     ]
    }
   ],
   "source": [
    "X_tr['Customer_care_calls'] = X_tr['Customer_care_calls'].str.replace('$','').astype('int')\n",
    "X_te['Customer_care_calls'] = X_te['Customer_care_calls'].str.replace('$','').astype('int')\n",
    "\n",
    "print(X_tr.info())"
   ]
  },
  {
   "cell_type": "code",
   "execution_count": 131,
   "metadata": {
    "ExecuteTime": {
     "end_time": "2021-12-02T14:38:53.741696Z",
     "start_time": "2021-12-02T14:38:53.605950Z"
    }
   },
   "outputs": [
    {
     "name": "stdout",
     "output_type": "stream",
     "text": [
      "         ID  Customer_care_calls  Customer_rating  Cost_of_the_Product  \\\n",
      "0      6045                    4                3                  266   \n",
      "1        44                    3                1                  174   \n",
      "2      7940                    4                1                  154   \n",
      "3      1596                    4                3                  158   \n",
      "4      4395                    5                3                  175   \n",
      "5      1991                    3                3                  139   \n",
      "6      7896                    3                1                  220   \n",
      "7      4338                    3                2                  160   \n",
      "8      3215                    5                2                  145   \n",
      "9     10251                    5                2                  155   \n",
      "10     3724                    3                2                  226   \n",
      "11    10811                    4                3                  256   \n",
      "12     4245                    3                3                  204   \n",
      "13     2810                    3                2                  207   \n",
      "14     4107                    6                1                  274   \n",
      "15     6274                    6                5                  251   \n",
      "16     1759                    3                2                  267   \n",
      "17     9859                    6                3                  166   \n",
      "18     1883                    4                1                  201   \n",
      "19     7191                    5                2                  303   \n",
      "20     9126                    2                4                  204   \n",
      "21     3875                    2                5                  176   \n",
      "22      291                    4                4                  270   \n",
      "23     2225                    4                3                  258   \n",
      "24     6989                    4                5                  133   \n",
      "25     3109                    4                3                  190   \n",
      "26     1919                    4                5                  207   \n",
      "27    10701                    2                5                  277   \n",
      "28     5882                    3                4                  143   \n",
      "29     2934                    6                3                  273   \n",
      "...     ...                  ...              ...                  ...   \n",
      "6568   9179                    4                3                  267   \n",
      "6569   1311                    6                2                  142   \n",
      "6570   7176                    4                4                  242   \n",
      "6571   2244                    4                3                  133   \n",
      "6572   5071                    5                1                  257   \n",
      "6573   1045                    3                3                  205   \n",
      "6574   3164                    5                2                  160   \n",
      "6575   3952                    4                1                  215   \n",
      "6576   6993                    3                4                  198   \n",
      "6577   5174                    3                3                  211   \n",
      "6578    448                    3                4                  194   \n",
      "6579   2372                    4                5                  152   \n",
      "6580   2663                    4                3                  242   \n",
      "6581   5769                    6                4                  266   \n",
      "6582   9476                    3                1                  270   \n",
      "6583   9071                    3                1                  173   \n",
      "6584     86                    3                4                  197   \n",
      "6585   5099                    5                5                  240   \n",
      "6586   6296                    4                3                  240   \n",
      "6587   6378                    3                3                  237   \n",
      "6588   7769                    5                3                  238   \n",
      "6589   2254                    3                5                  134   \n",
      "6590   6641                    4                1                  156   \n",
      "6591   6658                    3                3                  188   \n",
      "6592   6829                    5                4                  244   \n",
      "6593   8610                    5                2                  221   \n",
      "6594   3390                    4                5                  256   \n",
      "6595   5150                    3                1                  217   \n",
      "6596   3950                    4                5                  174   \n",
      "6597   5969                    6                2                  257   \n",
      "\n",
      "      Prior_purchases  Discount_offered  Weight_in_gms  Warehouse_block_A  \\\n",
      "0                   5                 5           1590                  1   \n",
      "1                   2                44           1556                  0   \n",
      "2                  10                10           5674                  0   \n",
      "3                   3                27           1207                  0   \n",
      "4                   3                 7           4833                  1   \n",
      "5                   4                17           1137                  0   \n",
      "6                   2                 7           5653                  0   \n",
      "7                   3                 4           4683                  0   \n",
      "8                   4                 9           4028                  0   \n",
      "9                   3                10           4485                  1   \n",
      "10                  3                 3           4940                  0   \n",
      "11                  3                 3           4480                  0   \n",
      "12                  3                 6           5296                  1   \n",
      "13                  2                20           3419                  0   \n",
      "14                  5                 8           4292                  1   \n",
      "15                  4                 8           1038                  0   \n",
      "16                  5                48           2622                  0   \n",
      "17                  5                 3           4596                  0   \n",
      "18                 10                37           3402                  0   \n",
      "19                  4                 9           1224                  1   \n",
      "20                 10                 4           4679                  0   \n",
      "21                  3                 4           5463                  0   \n",
      "22                  3                12           3279                  1   \n",
      "23                  3                12           2017                  0   \n",
      "24                  3                 8           5653                  0   \n",
      "25                  4                12           3115                  0   \n",
      "26                  2                49           3736                  0   \n",
      "27                  3                 6           1057                  1   \n",
      "28                  3                 1           4392                  0   \n",
      "29                  4                32           2532                  0   \n",
      "...               ...               ...            ...                ...   \n",
      "6568                5                 9           1538                  0   \n",
      "6569                3                54           1332                  1   \n",
      "6570                6                 9           1192                  0   \n",
      "6571                3                50           1861                  0   \n",
      "6572                3                 7           4133                  0   \n",
      "6573                2                58           2187                  0   \n",
      "6574                3                 1           5834                  0   \n",
      "6575                3                 9           4551                  0   \n",
      "6576                3                 7           4020                  1   \n",
      "6577                3                 7           5185                  0   \n",
      "6578                3                 3           2169                  0   \n",
      "6579                3                25           1222                  0   \n",
      "6580                4                62           3997                  0   \n",
      "6581                4                 3           1503                  1   \n",
      "6582                2                 6           4966                  0   \n",
      "6583                2                 7           4684                  0   \n",
      "6584                3                13           2148                  0   \n",
      "6585                2                 7           4409                  0   \n",
      "6586                5                 5           1301                  0   \n",
      "6587                2                 2           4263                  0   \n",
      "6588                5                10           1841                  0   \n",
      "6589                3                38           1169                  0   \n",
      "6590                2                 8           5488                  0   \n",
      "6591                2                 2           4336                  0   \n",
      "6592                6                10           1978                  0   \n",
      "6593                6                 4           1952                  0   \n",
      "6594                3                10           4504                  0   \n",
      "6595                4                 1           5761                  0   \n",
      "6596                3                 8           5576                  0   \n",
      "6597                4                 1           1513                  0   \n",
      "\n",
      "      Warehouse_block_B  Warehouse_block_C  Warehouse_block_D  \\\n",
      "0                     0                  0                  0   \n",
      "1                     0                  0                  0   \n",
      "2                     0                  0                  0   \n",
      "3                     0                  0                  0   \n",
      "4                     0                  0                  0   \n",
      "5                     0                  1                  0   \n",
      "6                     0                  0                  0   \n",
      "7                     0                  0                  0   \n",
      "8                     0                  1                  0   \n",
      "9                     0                  0                  0   \n",
      "10                    1                  0                  0   \n",
      "11                    0                  1                  0   \n",
      "12                    0                  0                  0   \n",
      "13                    0                  0                  0   \n",
      "14                    0                  0                  0   \n",
      "15                    1                  0                  0   \n",
      "16                    0                  0                  1   \n",
      "17                    0                  0                  1   \n",
      "18                    0                  1                  0   \n",
      "19                    0                  0                  0   \n",
      "20                    0                  0                  0   \n",
      "21                    0                  1                  0   \n",
      "22                    0                  0                  0   \n",
      "23                    0                  1                  0   \n",
      "24                    0                  1                  0   \n",
      "25                    0                  0                  1   \n",
      "26                    0                  1                  0   \n",
      "27                    0                  0                  0   \n",
      "28                    0                  0                  0   \n",
      "29                    0                  0                  0   \n",
      "...                 ...                ...                ...   \n",
      "6568                  0                  1                  0   \n",
      "6569                  0                  0                  0   \n",
      "6570                  0                  0                  0   \n",
      "6571                  0                  0                  0   \n",
      "6572                  0                  0                  1   \n",
      "6573                  0                  0                  1   \n",
      "6574                  0                  0                  0   \n",
      "6575                  1                  0                  0   \n",
      "6576                  0                  0                  0   \n",
      "6577                  0                  0                  0   \n",
      "6578                  1                  0                  0   \n",
      "6579                  0                  0                  0   \n",
      "6580                  0                  1                  0   \n",
      "6581                  0                  0                  0   \n",
      "6582                  0                  0                  0   \n",
      "6583                  0                  1                  0   \n",
      "6584                  0                  0                  0   \n",
      "6585                  0                  1                  0   \n",
      "6586                  0                  0                  0   \n",
      "6587                  0                  0                  0   \n",
      "6588                  0                  1                  0   \n",
      "6589                  1                  0                  0   \n",
      "6590                  0                  1                  0   \n",
      "6591                  1                  0                  0   \n",
      "6592                  0                  0                  1   \n",
      "6593                  0                  0                  0   \n",
      "6594                  0                  0                  0   \n",
      "6595                  0                  0                  0   \n",
      "6596                  0                  0                  0   \n",
      "6597                  0                  1                  0   \n",
      "\n",
      "      Warehouse_block_F  Mode_of_Shipment_Flight  Mode_of_Shipment_Road  \\\n",
      "0                     0                        1                      0   \n",
      "1                     1                        0                      0   \n",
      "2                     1                        0                      1   \n",
      "3                     1                        0                      0   \n",
      "4                     0                        1                      0   \n",
      "5                     0                        0                      0   \n",
      "6                     1                        0                      0   \n",
      "7                     1                        0                      0   \n",
      "8                     0                        0                      0   \n",
      "9                     0                        0                      1   \n",
      "10                    0                        0                      0   \n",
      "11                    0                        0                      1   \n",
      "12                    0                        1                      0   \n",
      "13                    1                        0                      0   \n",
      "14                    0                        1                      0   \n",
      "15                    0                        0                      0   \n",
      "16                    0                        0                      1   \n",
      "17                    0                        0                      1   \n",
      "18                    0                        0                      0   \n",
      "19                    0                        0                      0   \n",
      "20                    1                        0                      0   \n",
      "21                    0                        0                      0   \n",
      "22                    0                        1                      0   \n",
      "23                    0                        0                      0   \n",
      "24                    0                        1                      0   \n",
      "25                    0                        0                      0   \n",
      "26                    0                        1                      0   \n",
      "27                    0                        1                      0   \n",
      "28                    1                        0                      1   \n",
      "29                    1                        0                      0   \n",
      "...                 ...                      ...                    ...   \n",
      "6568                  0                        1                      0   \n",
      "6569                  0                        0                      0   \n",
      "6570                  1                        0                      0   \n",
      "6571                  1                        0                      0   \n",
      "6572                  0                        1                      0   \n",
      "6573                  0                        0                      0   \n",
      "6574                  1                        1                      0   \n",
      "6575                  0                        0                      1   \n",
      "6576                  0                        1                      0   \n",
      "6577                  1                        0                      0   \n",
      "6578                  0                        0                      0   \n",
      "6579                  1                        0                      0   \n",
      "6580                  0                        0                      0   \n",
      "6581                  0                        1                      0   \n",
      "6582                  1                        0                      0   \n",
      "6583                  0                        0                      0   \n",
      "6584                  1                        0                      0   \n",
      "6585                  0                        0                      0   \n",
      "6586                  1                        0                      1   \n",
      "6587                  1                        0                      0   \n",
      "6588                  0                        0                      0   \n",
      "6589                  0                        0                      0   \n",
      "6590                  0                        0                      0   \n",
      "6591                  0                        0                      0   \n",
      "6592                  0                        0                      1   \n",
      "6593                  1                        0                      1   \n",
      "6594                  1                        0                      0   \n",
      "6595                  1                        0                      0   \n",
      "6596                  1                        0                      1   \n",
      "6597                  0                        0                      0   \n",
      "\n",
      "      Mode_of_Shipment_Ship  Product_importance_high  Product_importance_low  \\\n",
      "0                         0                        1                       0   \n",
      "1                         1                        0                       1   \n",
      "2                         0                        1                       0   \n",
      "3                         1                        0                       0   \n",
      "4                         0                        0                       1   \n",
      "5                         1                        1                       0   \n",
      "6                         1                        0                       1   \n",
      "7                         1                        0                       1   \n",
      "8                         1                        0                       0   \n",
      "9                         0                        0                       1   \n",
      "10                        1                        0                       0   \n",
      "11                        0                        0                       0   \n",
      "12                        0                        0                       1   \n",
      "13                        1                        0                       1   \n",
      "14                        0                        0                       1   \n",
      "15                        1                        0                       1   \n",
      "16                        0                        0                       1   \n",
      "17                        0                        0                       0   \n",
      "18                        1                        0                       0   \n",
      "19                        1                        0                       1   \n",
      "20                        1                        0                       1   \n",
      "21                        1                        0                       1   \n",
      "22                        0                        0                       1   \n",
      "23                        1                        0                       1   \n",
      "24                        0                        1                       0   \n",
      "25                        1                        0                       0   \n",
      "26                        0                        0                       0   \n",
      "27                        0                        0                       0   \n",
      "28                        0                        0                       1   \n",
      "29                        1                        0                       0   \n",
      "...                     ...                      ...                     ...   \n",
      "6568                      0                        0                       0   \n",
      "6569                      1                        0                       1   \n",
      "6570                      1                        0                       1   \n",
      "6571                      1                        0                       0   \n",
      "6572                      0                        0                       0   \n",
      "6573                      1                        0                       0   \n",
      "6574                      0                        1                       0   \n",
      "6575                      0                        0                       1   \n",
      "6576                      0                        0                       0   \n",
      "6577                      1                        0                       0   \n",
      "6578                      1                        0                       0   \n",
      "6579                      1                        0                       0   \n",
      "6580                      1                        0                       1   \n",
      "6581                      0                        0                       1   \n",
      "6582                      1                        0                       0   \n",
      "6583                      1                        0                       1   \n",
      "6584                      1                        0                       0   \n",
      "6585                      1                        0                       1   \n",
      "6586                      0                        0                       0   \n",
      "6587                      1                        0                       1   \n",
      "6588                      1                        1                       0   \n",
      "6589                      1                        0                       0   \n",
      "6590                      1                        0                       1   \n",
      "6591                      1                        0                       0   \n",
      "6592                      0                        0                       1   \n",
      "6593                      0                        0                       0   \n",
      "6594                      1                        0                       0   \n",
      "6595                      1                        0                       0   \n",
      "6596                      0                        0                       0   \n",
      "6597                      1                        0                       0   \n",
      "\n",
      "      Product_importance_medium  Gender_F  Gender_M  \n",
      "0                             0         1         0  \n",
      "1                             0         0         1  \n",
      "2                             0         0         1  \n",
      "3                             1         1         0  \n",
      "4                             0         0         1  \n",
      "5                             0         0         1  \n",
      "6                             0         1         0  \n",
      "7                             0         1         0  \n",
      "8                             1         1         0  \n",
      "9                             0         1         0  \n",
      "10                            1         0         1  \n",
      "11                            1         0         1  \n",
      "12                            0         0         1  \n",
      "13                            0         0         1  \n",
      "14                            0         1         0  \n",
      "15                            0         1         0  \n",
      "16                            0         1         0  \n",
      "17                            1         1         0  \n",
      "18                            1         0         1  \n",
      "19                            0         1         0  \n",
      "20                            0         1         0  \n",
      "21                            0         1         0  \n",
      "22                            0         0         1  \n",
      "23                            0         1         0  \n",
      "24                            0         1         0  \n",
      "25                            1         0         1  \n",
      "26                            1         1         0  \n",
      "27                            1         1         0  \n",
      "28                            0         1         0  \n",
      "29                            1         1         0  \n",
      "...                         ...       ...       ...  \n",
      "6568                          1         1         0  \n",
      "6569                          0         1         0  \n",
      "6570                          0         1         0  \n",
      "6571                          1         1         0  \n",
      "6572                          1         0         1  \n",
      "6573                          1         1         0  \n",
      "6574                          0         0         1  \n",
      "6575                          0         0         1  \n",
      "6576                          1         0         1  \n",
      "6577                          1         0         1  \n",
      "6578                          1         0         1  \n",
      "6579                          1         0         1  \n",
      "6580                          0         0         1  \n",
      "6581                          0         0         1  \n",
      "6582                          1         0         1  \n",
      "6583                          0         1         0  \n",
      "6584                          1         0         1  \n",
      "6585                          0         1         0  \n",
      "6586                          1         1         0  \n",
      "6587                          0         1         0  \n",
      "6588                          0         0         1  \n",
      "6589                          1         0         1  \n",
      "6590                          0         0         1  \n",
      "6591                          1         1         0  \n",
      "6592                          0         1         0  \n",
      "6593                          1         0         1  \n",
      "6594                          1         0         1  \n",
      "6595                          1         1         0  \n",
      "6596                          1         1         0  \n",
      "6597                          1         0         1  \n",
      "\n",
      "[6598 rows x 20 columns]\n"
     ]
    }
   ],
   "source": [
    "# from sklearn.preprocessing import LabelEncoder\n",
    "\n",
    "# le = LabelEncoder()\n",
    "# X_tr1 = le.fit_transform(X_tr)\n",
    "X_tr = pd.get_dummies(X_tr)\n",
    "print(X_tr)"
   ]
  },
  {
   "cell_type": "code",
   "execution_count": 132,
   "metadata": {
    "ExecuteTime": {
     "end_time": "2021-12-02T14:38:56.985030Z",
     "start_time": "2021-12-02T14:38:56.941866Z"
    }
   },
   "outputs": [],
   "source": [
    "X_te = pd.get_dummies(X_te)"
   ]
  },
  {
   "cell_type": "code",
   "execution_count": 148,
   "metadata": {
    "ExecuteTime": {
     "end_time": "2021-12-02T15:19:20.873462Z",
     "start_time": "2021-12-02T15:19:20.853516Z"
    }
   },
   "outputs": [],
   "source": [
    "from sklearn.model_selection import train_test_split\n",
    "\n",
    "x_tr, x_val, Y_tr, Y_val = train_test_split(X_tr, y_tr1, test_size = 0.2, random_state = 22)"
   ]
  },
  {
   "cell_type": "code",
   "execution_count": 135,
   "metadata": {
    "ExecuteTime": {
     "end_time": "2021-12-02T14:39:59.746669Z",
     "start_time": "2021-12-02T14:39:59.721738Z"
    }
   },
   "outputs": [
    {
     "name": "stdout",
     "output_type": "stream",
     "text": [
      "      Reached.on.Time_Y.N\n",
      "4807                    1\n",
      "2410                    1\n",
      "953                     1\n",
      "3044                    1\n",
      "1198                    0\n",
      "2294                    1\n",
      "5122                    1\n",
      "5181                    0\n",
      "5379                    1\n",
      "3388                    1\n",
      "113                     1\n",
      "1672                    0\n",
      "4678                    1\n",
      "6056                    1\n",
      "3261                    1\n",
      "2805                    1\n",
      "2306                    0\n",
      "4525                    0\n",
      "5976                    1\n",
      "4065                    1\n",
      "2321                    1\n",
      "6517                    1\n",
      "5798                    1\n",
      "6417                    1\n",
      "4533                    1\n",
      "3074                    1\n",
      "1778                    0\n",
      "6387                    0\n",
      "1829                    1\n",
      "6094                    0\n",
      "...                   ...\n",
      "6122                    1\n",
      "5358                    0\n",
      "4967                    0\n",
      "5787                    1\n",
      "3079                    0\n",
      "3035                    1\n",
      "5826                    0\n",
      "2835                    0\n",
      "5011                    0\n",
      "2770                    1\n",
      "4770                    1\n",
      "1157                    0\n",
      "2985                    1\n",
      "5410                    0\n",
      "935                     1\n",
      "5213                    1\n",
      "1018                    1\n",
      "3629                    1\n",
      "764                     0\n",
      "5646                    1\n",
      "5778                    1\n",
      "989                     1\n",
      "2527                    1\n",
      "2952                    1\n",
      "4587                    0\n",
      "5478                    1\n",
      "356                     1\n",
      "4908                    1\n",
      "6276                    1\n",
      "2933                    0\n",
      "\n",
      "[5278 rows x 1 columns]\n"
     ]
    }
   ],
   "source": [
    "print(Y_tr)"
   ]
  },
  {
   "cell_type": "code",
   "execution_count": 149,
   "metadata": {
    "ExecuteTime": {
     "end_time": "2021-12-02T15:19:26.866383Z",
     "start_time": "2021-12-02T15:19:25.842742Z"
    }
   },
   "outputs": [
    {
     "name": "stderr",
     "output_type": "stream",
     "text": [
      "C:\\ProgramData\\Anaconda3\\lib\\site-packages\\ipykernel_launcher.py:6: DataConversionWarning: A column-vector y was passed when a 1d array was expected. Please change the shape of y to (n_samples,), for example using ravel().\n",
      "  \n"
     ]
    },
    {
     "name": "stdout",
     "output_type": "stream",
     "text": [
      "0.7398156230493571\n"
     ]
    }
   ],
   "source": [
    "from sklearn.ensemble import RandomForestClassifier\n",
    "# from sklearn.metrics import classification_report\n",
    "from sklearn.metrics import roc_auc_score\n",
    "\n",
    "rf = RandomForestClassifier(random_state=12)\n",
    "rf.fit(x_tr, Y_tr)\n",
    "pred = rf.predict_proba(x_val)[:,1]\n",
    "# score = classification_report(Y_val, pred)\n",
    "# print(score)\n",
    "roc = roc_auc_score(Y_val, pred)\n",
    "print(roc)"
   ]
  },
  {
   "cell_type": "code",
   "execution_count": 150,
   "metadata": {
    "ExecuteTime": {
     "end_time": "2021-12-02T15:19:30.385003Z",
     "start_time": "2021-12-02T15:19:29.013670Z"
    }
   },
   "outputs": [
    {
     "name": "stderr",
     "output_type": "stream",
     "text": [
      "C:\\Users\\김유경\\AppData\\Roaming\\Python\\Python37\\site-packages\\xgboost\\sklearn.py:1146: UserWarning: The use of label encoder in XGBClassifier is deprecated and will be removed in a future release. To remove this warning, do the following: 1) Pass option use_label_encoder=False when constructing XGBClassifier object; and 2) Encode your labels (y) as integers starting with 0, i.e. 0, 1, 2, ..., [num_class - 1].\n",
      "  warnings.warn(label_encoder_deprecation_msg, UserWarning)\n",
      "C:\\ProgramData\\Anaconda3\\lib\\site-packages\\sklearn\\utils\\validation.py:72: DataConversionWarning: A column-vector y was passed when a 1d array was expected. Please change the shape of y to (n_samples, ), for example using ravel().\n",
      "  return f(**kwargs)\n"
     ]
    },
    {
     "name": "stdout",
     "output_type": "stream",
     "text": [
      "[00:19:29] WARNING: C:/Users/Administrator/workspace/xgboost-win64_release_1.4.0/src/learner.cc:1095: Starting in XGBoost 1.3.0, the default evaluation metric used with the objective 'binary:logistic' was changed from 'error' to 'logloss'. Explicitly set eval_metric if you'd like to restore the old behavior.\n",
      "0.7438045713745707\n"
     ]
    }
   ],
   "source": [
    "from xgboost import XGBClassifier\n",
    "\n",
    "xgb = XGBClassifier(random_state = 15)\n",
    "xgb.fit(x_tr, Y_tr)\n",
    "pred1 = xgb.predict_proba(x_val)[:,1]\n",
    "roc = roc_auc_score(Y_val, pred1)\n",
    "print(roc)"
   ]
  },
  {
   "cell_type": "code",
   "execution_count": 142,
   "metadata": {
    "ExecuteTime": {
     "end_time": "2021-12-02T15:06:19.458986Z",
     "start_time": "2021-12-02T15:06:17.738584Z"
    }
   },
   "outputs": [
    {
     "name": "stdout",
     "output_type": "stream",
     "text": [
      "[00:06:17] WARNING: C:/Users/Administrator/workspace/xgboost-win64_release_1.4.0/src/learner.cc:1095: Starting in XGBoost 1.3.0, the default evaluation metric used with the objective 'binary:logistic' was changed from 'error' to 'logloss'. Explicitly set eval_metric if you'd like to restore the old behavior.\n"
     ]
    }
   ],
   "source": [
    "xgb = XGBClassifier(random_state = 15)\n",
    "xgb.fit(X_tr, y_tr1)\n",
    "pred2 = xgb.predict_proba(X_te)[:,1]\n",
    "sub = pd.DataFrame({'ID' : X_te['ID'], 'Reached.on.Time_Y.N' : pred2})\n",
    "sub.to_csv('00135000.csv', index = False)"
   ]
  },
  {
   "cell_type": "code",
   "execution_count": 144,
   "metadata": {
    "ExecuteTime": {
     "end_time": "2021-12-02T15:18:04.362660Z",
     "start_time": "2021-12-02T15:18:04.335732Z"
    }
   },
   "outputs": [
    {
     "name": "stdout",
     "output_type": "stream",
     "text": [
      "0.7319783744354934\n"
     ]
    }
   ],
   "source": [
    "# 최종 제출값 평가 <-- 시험장에선 제출값 평가 불가\n",
    "y_te = pd.read_csv('y_test.csv')\n",
    "roc = roc_auc_score(y_te['Reached.on.Time_Y.N'], pred2)\n",
    "print(roc)"
   ]
  }
 ],
 "metadata": {
  "hide_input": false,
  "kernelspec": {
   "display_name": "Python 3",
   "language": "python",
   "name": "python3"
  },
  "language_info": {
   "codemirror_mode": {
    "name": "ipython",
    "version": 3
   },
   "file_extension": ".py",
   "mimetype": "text/x-python",
   "name": "python",
   "nbconvert_exporter": "python",
   "pygments_lexer": "ipython3",
   "version": "3.7.3"
  },
  "toc": {
   "base_numbering": 1,
   "nav_menu": {},
   "number_sections": true,
   "sideBar": true,
   "skip_h1_title": false,
   "title_cell": "Table of Contents",
   "title_sidebar": "Contents",
   "toc_cell": false,
   "toc_position": {},
   "toc_section_display": true,
   "toc_window_display": false
  },
  "varInspector": {
   "cols": {
    "lenName": 16,
    "lenType": 16,
    "lenVar": 40
   },
   "kernels_config": {
    "python": {
     "delete_cmd_postfix": "",
     "delete_cmd_prefix": "del ",
     "library": "var_list.py",
     "varRefreshCmd": "print(var_dic_list())"
    },
    "r": {
     "delete_cmd_postfix": ") ",
     "delete_cmd_prefix": "rm(",
     "library": "var_list.r",
     "varRefreshCmd": "cat(var_dic_list()) "
    }
   },
   "types_to_exclude": [
    "module",
    "function",
    "builtin_function_or_method",
    "instance",
    "_Feature"
   ],
   "window_display": false
  }
 },
 "nbformat": 4,
 "nbformat_minor": 2
}
