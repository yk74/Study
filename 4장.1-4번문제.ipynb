{
 "cells": [
  {
   "cell_type": "code",
   "execution_count": 5,
   "metadata": {
    "ExecuteTime": {
     "end_time": "2021-11-30T18:16:16.870625Z",
     "start_time": "2021-11-30T18:16:16.786857Z"
    },
    "scrolled": true
   },
   "outputs": [
    {
     "name": "stdout",
     "output_type": "stream",
     "text": [
      "             CRIM          ZN       INDUS         NOX          RM         AGE  \\\n",
      "count  506.000000  506.000000  506.000000  506.000000  491.000000  506.000000   \n",
      "mean     3.613524   11.363636   11.136779    0.554695    6.285102   68.574901   \n",
      "std      8.601545   23.322453    6.860353    0.115878    0.708096   28.148861   \n",
      "min      0.006320    0.000000    0.460000    0.385000    3.561000    2.900000   \n",
      "25%      0.082045    0.000000    5.190000    0.449000    5.886000   45.025000   \n",
      "50%      0.256510    0.000000    9.690000    0.538000    6.209000   77.500000   \n",
      "75%      3.677082   12.500000   18.100000    0.624000    6.622000   94.075000   \n",
      "max     88.976200  100.000000   27.740000    0.871000    8.780000  100.000000   \n",
      "\n",
      "              DIS         TAX     PTRATIO           B       LSTAT        MEDV  \n",
      "count  506.000000  506.000000  506.000000  506.000000  506.000000  506.000000  \n",
      "mean     3.795043  408.237154   18.455534  356.674032   12.653063   22.532806  \n",
      "std      2.105710  168.537116    2.164946   91.294864    7.141062    9.197104  \n",
      "min      1.129600  187.000000   12.600000    0.320000    1.730000    5.000000  \n",
      "25%      2.100175  279.000000   17.400000  375.377500    6.950000   17.025000  \n",
      "50%      3.207450  330.000000   19.050000  391.440000   11.360000   21.200000  \n",
      "75%      5.188425  666.000000   20.200000  396.225000   16.955000   25.000000  \n",
      "max     12.126500  711.000000   22.000000  396.900000   37.970000   50.000000  \n"
     ]
    }
   ],
   "source": [
    "import pandas as pd\n",
    "\n",
    "df = pd.read_csv('boston.csv')\n",
    "df1 = df.drop(columns=['CHAS','RAD'])\n",
    "\n",
    "print(df1.describe())"
   ]
  },
  {
   "cell_type": "code",
   "execution_count": 8,
   "metadata": {
    "ExecuteTime": {
     "end_time": "2021-11-30T18:18:50.181510Z",
     "start_time": "2021-11-30T18:18:50.084768Z"
    }
   },
   "outputs": [
    {
     "name": "stdout",
     "output_type": "stream",
     "text": [
      "                25%         75%\n",
      "CRIM       0.082045    3.677082\n",
      "ZN         0.000000   12.500000\n",
      "INDUS      5.190000   18.100000\n",
      "NOX        0.449000    0.624000\n",
      "RM         5.886000    6.622000\n",
      "AGE       45.025000   94.075000\n",
      "DIS        2.100175    5.188425\n",
      "TAX      279.000000  666.000000\n",
      "PTRATIO   17.400000   20.200000\n",
      "B        375.377500  396.225000\n",
      "LSTAT      6.950000   16.955000\n",
      "MEDV      17.025000   25.000000\n"
     ]
    }
   ],
   "source": [
    "df2 = df1.describe().iloc[[4,6]].T\n",
    "print(df2)"
   ]
  },
  {
   "cell_type": "code",
   "execution_count": 9,
   "metadata": {
    "ExecuteTime": {
     "end_time": "2021-11-30T18:21:54.087776Z",
     "start_time": "2021-11-30T18:21:53.963909Z"
    }
   },
   "outputs": [
    {
     "name": "stdout",
     "output_type": "stream",
     "text": [
      "CRIM         3.595037\n",
      "ZN          12.500000\n",
      "INDUS       12.910000\n",
      "NOX          0.175000\n",
      "RM           0.736000\n",
      "AGE         49.050000\n",
      "DIS          3.088250\n",
      "TAX        387.000000\n",
      "PTRATIO      2.800000\n",
      "B           20.847500\n",
      "LSTAT       10.005000\n",
      "MEDV         7.975000\n",
      "dtype: float64\n"
     ]
    }
   ],
   "source": [
    "print(df2['75%'] - df2['25%'])"
   ]
  }
 ],
 "metadata": {
  "hide_input": false,
  "kernelspec": {
   "display_name": "Python 3",
   "language": "python",
   "name": "python3"
  },
  "language_info": {
   "codemirror_mode": {
    "name": "ipython",
    "version": 3
   },
   "file_extension": ".py",
   "mimetype": "text/x-python",
   "name": "python",
   "nbconvert_exporter": "python",
   "pygments_lexer": "ipython3",
   "version": "3.7.3"
  },
  "toc": {
   "base_numbering": 1,
   "nav_menu": {},
   "number_sections": true,
   "sideBar": true,
   "skip_h1_title": false,
   "title_cell": "Table of Contents",
   "title_sidebar": "Contents",
   "toc_cell": false,
   "toc_position": {},
   "toc_section_display": true,
   "toc_window_display": false
  },
  "varInspector": {
   "cols": {
    "lenName": 16,
    "lenType": 16,
    "lenVar": 40
   },
   "kernels_config": {
    "python": {
     "delete_cmd_postfix": "",
     "delete_cmd_prefix": "del ",
     "library": "var_list.py",
     "varRefreshCmd": "print(var_dic_list())"
    },
    "r": {
     "delete_cmd_postfix": ") ",
     "delete_cmd_prefix": "rm(",
     "library": "var_list.r",
     "varRefreshCmd": "cat(var_dic_list()) "
    }
   },
   "types_to_exclude": [
    "module",
    "function",
    "builtin_function_or_method",
    "instance",
    "_Feature"
   ],
   "window_display": false
  }
 },
 "nbformat": 4,
 "nbformat_minor": 2
}
