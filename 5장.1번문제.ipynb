{
 "cells": [
  {
   "cell_type": "code",
   "execution_count": 4,
   "metadata": {
    "ExecuteTime": {
     "end_time": "2021-12-02T17:36:55.994927Z",
     "start_time": "2021-12-02T17:36:55.937099Z"
    }
   },
   "outputs": [
    {
     "name": "stdout",
     "output_type": "stream",
     "text": [
      "<class 'pandas.core.frame.DataFrame'>\n",
      "RangeIndex: 3500 entries, 0 to 3499\n",
      "Data columns (total 10 columns):\n",
      "cust_id    3500 non-null int64\n",
      "총구매액       3500 non-null int64\n",
      "최대구매액      3500 non-null int64\n",
      "환불금액       1205 non-null float64\n",
      "주구매상품      3500 non-null object\n",
      "주구매지점      3500 non-null object\n",
      "내점일수       3500 non-null int64\n",
      "내점당구매건수    3500 non-null float64\n",
      "주말방문비율     3500 non-null float64\n",
      "구매주기       3500 non-null int64\n",
      "dtypes: float64(3), int64(5), object(2)\n",
      "memory usage: 273.5+ KB\n",
      "None\n"
     ]
    }
   ],
   "source": [
    "import pandas as pd\n",
    "\n",
    "x_train = pd.read_csv('x_train.csv', encoding = 'cp949')\n",
    "x_test = pd.read_csv('x_test.csv', encoding = 'cp949')\n",
    "y_train = pd.read_csv('y_train.csv', encoding = 'cp949')\n",
    "\n",
    "print(x_train.info())"
   ]
  },
  {
   "cell_type": "code",
   "execution_count": 10,
   "metadata": {
    "ExecuteTime": {
     "end_time": "2021-12-02T17:48:38.464105Z",
     "start_time": "2021-12-02T17:48:38.447153Z"
    }
   },
   "outputs": [
    {
     "name": "stdout",
     "output_type": "stream",
     "text": [
      "   cust_id  gender\n",
      "0        0       0\n",
      "1        1       0\n",
      "2        2       1\n",
      "3        3       1\n",
      "4        4       0\n"
     ]
    }
   ],
   "source": [
    "print(y_train.head())"
   ]
  },
  {
   "cell_type": "code",
   "execution_count": 11,
   "metadata": {
    "ExecuteTime": {
     "end_time": "2021-12-02T17:49:18.579828Z",
     "start_time": "2021-12-02T17:49:18.569811Z"
    }
   },
   "outputs": [],
   "source": [
    "y_train = y_train['gender']"
   ]
  },
  {
   "cell_type": "code",
   "execution_count": 12,
   "metadata": {
    "ExecuteTime": {
     "end_time": "2021-12-02T17:49:47.866550Z",
     "start_time": "2021-12-02T17:49:47.841620Z"
    }
   },
   "outputs": [],
   "source": [
    "x_train = x_train.fillna(0)\n",
    "x_test = x_test.fillna(0)"
   ]
  },
  {
   "cell_type": "code",
   "execution_count": 7,
   "metadata": {
    "ExecuteTime": {
     "end_time": "2021-12-02T17:38:43.178870Z",
     "start_time": "2021-12-02T17:38:43.156930Z"
    }
   },
   "outputs": [
    {
     "name": "stdout",
     "output_type": "stream",
     "text": [
      "['기타' '스포츠' '남성 캐주얼' '보석' '디자이너' '시티웨어' '명품' '농산물' '화장품' '골프' '구두' '가공식품'\n",
      " '수산품' '아동' '차/커피' '캐주얼' '섬유잡화' '육류' '축산가공' '젓갈/반찬' '액세서리' '피혁잡화' '일용잡화'\n",
      " '주방가전' '주방용품' '건강식품' '가구' '주류' '모피/피혁' '남성 트랜디' '셔츠' '남성정장' '생활잡화'\n",
      " '트래디셔널' '란제리/내의' '커리어' '침구/수예' '대형가전' '통신/컴퓨터' '식기' '소형가전' '악기']\n"
     ]
    }
   ],
   "source": [
    "print(x_train['주구매상품'].unique())"
   ]
  },
  {
   "cell_type": "code",
   "execution_count": 8,
   "metadata": {
    "ExecuteTime": {
     "end_time": "2021-12-02T17:39:04.708065Z",
     "start_time": "2021-12-02T17:39:04.695101Z"
    },
    "scrolled": true
   },
   "outputs": [
    {
     "name": "stdout",
     "output_type": "stream",
     "text": [
      "['강남점' '잠실점' '관악점' '광주점' '본  점' '일산점' '대전점' '부산본점' '분당점' '영등포점' '미아점'\n",
      " '청량리점' '안양점' '부평점' '동래점' '포항점' '노원점' '창원점' '센텀시티점' '인천점' '대구점' '전주점'\n",
      " '울산점' '상인점']\n"
     ]
    }
   ],
   "source": [
    "print(x_train['주구매지점'].unique())"
   ]
  },
  {
   "cell_type": "code",
   "execution_count": 14,
   "metadata": {
    "ExecuteTime": {
     "end_time": "2021-12-02T17:52:41.582124Z",
     "start_time": "2021-12-02T17:52:41.557189Z"
    }
   },
   "outputs": [],
   "source": [
    "from sklearn.preprocessing import LabelEncoder\n",
    "\n",
    "le = LabelEncoder()\n",
    "x_train['주구매상품'] = le.fit_transform(x_train['주구매상품'])\n",
    "x_train['주구매지점'] = le.fit_transform(x_train['주구매상품'])\n",
    "x_test['주구매상품'] = le.fit_transform(x_test['주구매상품'])\n",
    "x_test['주구매지점'] = le.fit_transform(x_test['주구매상품'])"
   ]
  },
  {
   "cell_type": "code",
   "execution_count": 15,
   "metadata": {
    "ExecuteTime": {
     "end_time": "2021-12-02T17:53:32.846373Z",
     "start_time": "2021-12-02T17:53:32.824468Z"
    }
   },
   "outputs": [
    {
     "name": "stdout",
     "output_type": "stream",
     "text": [
      "<class 'pandas.core.frame.DataFrame'>\n",
      "RangeIndex: 3500 entries, 0 to 3499\n",
      "Data columns (total 10 columns):\n",
      "cust_id    3500 non-null int64\n",
      "총구매액       3500 non-null int64\n",
      "최대구매액      3500 non-null int64\n",
      "환불금액       3500 non-null float64\n",
      "주구매상품      3500 non-null int64\n",
      "주구매지점      3500 non-null int64\n",
      "내점일수       3500 non-null int64\n",
      "내점당구매건수    3500 non-null float64\n",
      "주말방문비율     3500 non-null float64\n",
      "구매주기       3500 non-null int64\n",
      "dtypes: float64(3), int64(7)\n",
      "memory usage: 273.5 KB\n",
      "None\n"
     ]
    }
   ],
   "source": [
    "print(x_train.info())"
   ]
  },
  {
   "cell_type": "code",
   "execution_count": 18,
   "metadata": {
    "ExecuteTime": {
     "end_time": "2021-12-02T18:03:28.441789Z",
     "start_time": "2021-12-02T18:03:28.231358Z"
    }
   },
   "outputs": [],
   "source": [
    "from sklearn.model_selection import train_test_split\n",
    "\n",
    "x_tr, x_val, y_tr, y_val = train_test_split(x_train, y_train, test_size = 0.2, random_state = 17)"
   ]
  },
  {
   "cell_type": "code",
   "execution_count": 25,
   "metadata": {
    "ExecuteTime": {
     "end_time": "2021-12-02T18:17:13.199842Z",
     "start_time": "2021-12-02T18:17:12.370021Z"
    }
   },
   "outputs": [
    {
     "name": "stdout",
     "output_type": "stream",
     "text": [
      "0.6378387789942159\n"
     ]
    }
   ],
   "source": [
    "# from sklearn.ensemble import RandomForestClassifier\n",
    "# from sklearn.metrics import roc_auc_score\n",
    "\n",
    "# rf = RandomForestClassifier(random_state = 15)\n",
    "# rf.fit(x_tr, y_tr)\n",
    "# pred_v = rf.predict_proba(x_val)\n",
    "# score = roc_auc_score(y_val, pred_v[:,1])\n",
    "# print(score)"
   ]
  },
  {
   "cell_type": "code",
   "execution_count": 32,
   "metadata": {
    "ExecuteTime": {
     "end_time": "2021-12-02T18:23:34.996496Z",
     "start_time": "2021-12-02T18:23:33.869511Z"
    }
   },
   "outputs": [],
   "source": [
    "from sklearn.ensemble import RandomForestClassifier\n",
    "\n",
    "rf = RandomForestClassifier(random_state = 15)\n",
    "rf.fit(x_train, y_train)\n",
    "pred = rf.predict_proba(x_test)[:,1]"
   ]
  },
  {
   "cell_type": "code",
   "execution_count": 37,
   "metadata": {
    "ExecuteTime": {
     "end_time": "2021-12-02T18:25:01.600503Z",
     "start_time": "2021-12-02T18:25:01.537673Z"
    }
   },
   "outputs": [],
   "source": [
    "sub = pd.DataFrame({'custid' : x_test['cust_id'], 'gender' : pred})\n",
    "sub.to_csv('00012345.csv', index = False)"
   ]
  }
 ],
 "metadata": {
  "hide_input": false,
  "kernelspec": {
   "display_name": "Python 3",
   "language": "python",
   "name": "python3"
  },
  "language_info": {
   "codemirror_mode": {
    "name": "ipython",
    "version": 3
   },
   "file_extension": ".py",
   "mimetype": "text/x-python",
   "name": "python",
   "nbconvert_exporter": "python",
   "pygments_lexer": "ipython3",
   "version": "3.7.3"
  },
  "toc": {
   "base_numbering": 1,
   "nav_menu": {},
   "number_sections": true,
   "sideBar": true,
   "skip_h1_title": false,
   "title_cell": "Table of Contents",
   "title_sidebar": "Contents",
   "toc_cell": false,
   "toc_position": {},
   "toc_section_display": true,
   "toc_window_display": false
  },
  "varInspector": {
   "cols": {
    "lenName": 16,
    "lenType": 16,
    "lenVar": 40
   },
   "kernels_config": {
    "python": {
     "delete_cmd_postfix": "",
     "delete_cmd_prefix": "del ",
     "library": "var_list.py",
     "varRefreshCmd": "print(var_dic_list())"
    },
    "r": {
     "delete_cmd_postfix": ") ",
     "delete_cmd_prefix": "rm(",
     "library": "var_list.r",
     "varRefreshCmd": "cat(var_dic_list()) "
    }
   },
   "types_to_exclude": [
    "module",
    "function",
    "builtin_function_or_method",
    "instance",
    "_Feature"
   ],
   "window_display": false
  }
 },
 "nbformat": 4,
 "nbformat_minor": 2
}
