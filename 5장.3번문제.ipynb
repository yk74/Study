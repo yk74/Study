{
 "cells": [
  {
   "cell_type": "code",
   "execution_count": 60,
   "metadata": {
    "ExecuteTime": {
     "end_time": "2021-12-03T06:01:35.806485Z",
     "start_time": "2021-12-03T06:01:35.650005Z"
    }
   },
   "outputs": [
    {
     "name": "stdout",
     "output_type": "stream",
     "text": [
      "          datetime  count\n",
      "0  2011-01-01 0:00     16\n",
      "1  2011-01-01 1:00     40\n",
      "2  2011-01-01 2:00     32\n",
      "3  2011-01-01 3:00     13\n",
      "4  2011-01-01 4:00      1\n"
     ]
    }
   ],
   "source": [
    "import pandas as pd\n",
    "\n",
    "x_train = pd.read_csv('bike_x_train.csv', encoding = 'cp949')\n",
    "x_test = pd.read_csv('bike_x_test.csv', encoding = 'cp949')\n",
    "y_train = pd.read_csv('bike_y_train.csv', encoding = 'cp949')\n",
    "\n",
    "print(y_train.head())"
   ]
  },
  {
   "cell_type": "code",
   "execution_count": 61,
   "metadata": {
    "ExecuteTime": {
     "end_time": "2021-12-03T06:01:40.348978Z",
     "start_time": "2021-12-03T06:01:40.337905Z"
    }
   },
   "outputs": [],
   "source": [
    "y_train = y_train['count']"
   ]
  },
  {
   "cell_type": "code",
   "execution_count": 5,
   "metadata": {
    "ExecuteTime": {
     "end_time": "2021-12-03T02:16:33.256127Z",
     "start_time": "2021-12-03T02:16:33.238094Z"
    }
   },
   "outputs": [
    {
     "name": "stdout",
     "output_type": "stream",
     "text": [
      "          datetime  계절  공휴일  근무일  날씨    온도    체감온도  습도   풍속\n",
      "0  2011-01-01 0:00   1    0    0   1  9.84  14.395  81  0.0\n",
      "1  2011-01-01 1:00   1    0    0   1  9.02  13.635  80  0.0\n",
      "2  2011-01-01 2:00   1    0    0   1  9.02  13.635  80  0.0\n",
      "3  2011-01-01 3:00   1    0    0   1  9.84  14.395  75  0.0\n",
      "4  2011-01-01 4:00   1    0    0   1  9.84  14.395  75  0.0\n"
     ]
    }
   ],
   "source": [
    "print(x_train.head())"
   ]
  },
  {
   "cell_type": "code",
   "execution_count": 4,
   "metadata": {
    "ExecuteTime": {
     "end_time": "2021-12-03T02:16:04.601614Z",
     "start_time": "2021-12-03T02:16:04.563638Z"
    }
   },
   "outputs": [
    {
     "name": "stdout",
     "output_type": "stream",
     "text": [
      "<class 'pandas.core.frame.DataFrame'>\n",
      "RangeIndex: 10886 entries, 0 to 10885\n",
      "Data columns (total 9 columns):\n",
      "datetime    10886 non-null object\n",
      "계절          10886 non-null int64\n",
      "공휴일         10886 non-null int64\n",
      "근무일         10886 non-null int64\n",
      "날씨          10886 non-null int64\n",
      "온도          10886 non-null float64\n",
      "체감온도        10886 non-null float64\n",
      "습도          10886 non-null int64\n",
      "풍속          10886 non-null float64\n",
      "dtypes: float64(3), int64(5), object(1)\n",
      "memory usage: 765.5+ KB\n",
      "None\n"
     ]
    }
   ],
   "source": [
    "print(x_train.info())"
   ]
  },
  {
   "cell_type": "code",
   "execution_count": 62,
   "metadata": {
    "ExecuteTime": {
     "end_time": "2021-12-03T06:01:49.668883Z",
     "start_time": "2021-12-03T06:01:49.656917Z"
    }
   },
   "outputs": [],
   "source": [
    "def date(x):\n",
    "    x['datetime'] = pd.to_datetime(x['datetime'])\n",
    "    x['year'] = x['datetime'].dt.year\n",
    "    x['month'] = x['datetime'].dt.month\n",
    "    x['day'] = x['datetime'].dt.day\n",
    "    x['hour'] = x['datetime'].dt.hour\n",
    "    x = x.drop(columns='datetime')\n",
    "    return x"
   ]
  },
  {
   "cell_type": "code",
   "execution_count": 63,
   "metadata": {
    "ExecuteTime": {
     "end_time": "2021-12-03T06:02:03.842026Z",
     "start_time": "2021-12-03T06:02:03.743092Z"
    }
   },
   "outputs": [],
   "source": [
    "x_train1 = date(x_train)\n",
    "x_test1 = date(x_test)\n",
    "# y_train = date(y_train)"
   ]
  },
  {
   "cell_type": "code",
   "execution_count": 64,
   "metadata": {
    "ExecuteTime": {
     "end_time": "2021-12-03T06:02:07.904585Z",
     "start_time": "2021-12-03T06:02:07.885356Z"
    },
    "scrolled": true
   },
   "outputs": [
    {
     "name": "stdout",
     "output_type": "stream",
     "text": [
      "<class 'pandas.core.frame.DataFrame'>\n",
      "RangeIndex: 10886 entries, 0 to 10885\n",
      "Data columns (total 12 columns):\n",
      "계절       10886 non-null int64\n",
      "공휴일      10886 non-null int64\n",
      "근무일      10886 non-null int64\n",
      "날씨       10886 non-null int64\n",
      "온도       10886 non-null float64\n",
      "체감온도     10886 non-null float64\n",
      "습도       10886 non-null int64\n",
      "풍속       10886 non-null float64\n",
      "year     10886 non-null int64\n",
      "month    10886 non-null int64\n",
      "day      10886 non-null int64\n",
      "hour     10886 non-null int64\n",
      "dtypes: float64(3), int64(9)\n",
      "memory usage: 1020.6 KB\n"
     ]
    }
   ],
   "source": [
    "x_train1.info()"
   ]
  },
  {
   "cell_type": "code",
   "execution_count": 65,
   "metadata": {
    "ExecuteTime": {
     "end_time": "2021-12-03T06:02:11.849856Z",
     "start_time": "2021-12-03T06:02:11.792371Z"
    }
   },
   "outputs": [
    {
     "data": {
      "text/html": [
       "<div>\n",
       "<style scoped>\n",
       "    .dataframe tbody tr th:only-of-type {\n",
       "        vertical-align: middle;\n",
       "    }\n",
       "\n",
       "    .dataframe tbody tr th {\n",
       "        vertical-align: top;\n",
       "    }\n",
       "\n",
       "    .dataframe thead th {\n",
       "        text-align: right;\n",
       "    }\n",
       "</style>\n",
       "<table border=\"1\" class=\"dataframe\">\n",
       "  <thead>\n",
       "    <tr style=\"text-align: right;\">\n",
       "      <th></th>\n",
       "      <th>계절</th>\n",
       "      <th>공휴일</th>\n",
       "      <th>근무일</th>\n",
       "      <th>날씨</th>\n",
       "      <th>온도</th>\n",
       "      <th>체감온도</th>\n",
       "      <th>습도</th>\n",
       "      <th>풍속</th>\n",
       "      <th>year</th>\n",
       "      <th>month</th>\n",
       "      <th>day</th>\n",
       "      <th>hour</th>\n",
       "    </tr>\n",
       "  </thead>\n",
       "  <tbody>\n",
       "    <tr>\n",
       "      <th>계절</th>\n",
       "      <td>1.000000</td>\n",
       "      <td>0.029368</td>\n",
       "      <td>-0.008126</td>\n",
       "      <td>0.008879</td>\n",
       "      <td>0.258689</td>\n",
       "      <td>0.264744</td>\n",
       "      <td>0.190610</td>\n",
       "      <td>-0.147121</td>\n",
       "      <td>-0.004797</td>\n",
       "      <td>0.971524</td>\n",
       "      <td>0.001729</td>\n",
       "      <td>-0.006546</td>\n",
       "    </tr>\n",
       "    <tr>\n",
       "      <th>공휴일</th>\n",
       "      <td>0.029368</td>\n",
       "      <td>1.000000</td>\n",
       "      <td>-0.250491</td>\n",
       "      <td>-0.007074</td>\n",
       "      <td>0.000295</td>\n",
       "      <td>-0.005215</td>\n",
       "      <td>0.001929</td>\n",
       "      <td>0.008409</td>\n",
       "      <td>0.012021</td>\n",
       "      <td>0.001731</td>\n",
       "      <td>-0.015877</td>\n",
       "      <td>-0.000354</td>\n",
       "    </tr>\n",
       "    <tr>\n",
       "      <th>근무일</th>\n",
       "      <td>-0.008126</td>\n",
       "      <td>-0.250491</td>\n",
       "      <td>1.000000</td>\n",
       "      <td>0.033772</td>\n",
       "      <td>0.029966</td>\n",
       "      <td>0.024660</td>\n",
       "      <td>-0.010880</td>\n",
       "      <td>0.013373</td>\n",
       "      <td>-0.002482</td>\n",
       "      <td>-0.003394</td>\n",
       "      <td>0.009829</td>\n",
       "      <td>0.002780</td>\n",
       "    </tr>\n",
       "    <tr>\n",
       "      <th>날씨</th>\n",
       "      <td>0.008879</td>\n",
       "      <td>-0.007074</td>\n",
       "      <td>0.033772</td>\n",
       "      <td>1.000000</td>\n",
       "      <td>-0.055035</td>\n",
       "      <td>-0.055376</td>\n",
       "      <td>0.406244</td>\n",
       "      <td>0.007261</td>\n",
       "      <td>-0.012548</td>\n",
       "      <td>0.012144</td>\n",
       "      <td>-0.007890</td>\n",
       "      <td>-0.022740</td>\n",
       "    </tr>\n",
       "    <tr>\n",
       "      <th>온도</th>\n",
       "      <td>0.258689</td>\n",
       "      <td>0.000295</td>\n",
       "      <td>0.029966</td>\n",
       "      <td>-0.055035</td>\n",
       "      <td>1.000000</td>\n",
       "      <td>0.984948</td>\n",
       "      <td>-0.064949</td>\n",
       "      <td>-0.017852</td>\n",
       "      <td>0.061226</td>\n",
       "      <td>0.257589</td>\n",
       "      <td>0.015551</td>\n",
       "      <td>0.145430</td>\n",
       "    </tr>\n",
       "    <tr>\n",
       "      <th>체감온도</th>\n",
       "      <td>0.264744</td>\n",
       "      <td>-0.005215</td>\n",
       "      <td>0.024660</td>\n",
       "      <td>-0.055376</td>\n",
       "      <td>0.984948</td>\n",
       "      <td>1.000000</td>\n",
       "      <td>-0.043536</td>\n",
       "      <td>-0.057473</td>\n",
       "      <td>0.058540</td>\n",
       "      <td>0.264173</td>\n",
       "      <td>0.011866</td>\n",
       "      <td>0.140343</td>\n",
       "    </tr>\n",
       "    <tr>\n",
       "      <th>습도</th>\n",
       "      <td>0.190610</td>\n",
       "      <td>0.001929</td>\n",
       "      <td>-0.010880</td>\n",
       "      <td>0.406244</td>\n",
       "      <td>-0.064949</td>\n",
       "      <td>-0.043536</td>\n",
       "      <td>1.000000</td>\n",
       "      <td>-0.318607</td>\n",
       "      <td>-0.078606</td>\n",
       "      <td>0.204537</td>\n",
       "      <td>-0.011335</td>\n",
       "      <td>-0.278011</td>\n",
       "    </tr>\n",
       "    <tr>\n",
       "      <th>풍속</th>\n",
       "      <td>-0.147121</td>\n",
       "      <td>0.008409</td>\n",
       "      <td>0.013373</td>\n",
       "      <td>0.007261</td>\n",
       "      <td>-0.017852</td>\n",
       "      <td>-0.057473</td>\n",
       "      <td>-0.318607</td>\n",
       "      <td>1.000000</td>\n",
       "      <td>-0.015221</td>\n",
       "      <td>-0.150192</td>\n",
       "      <td>0.036157</td>\n",
       "      <td>0.146631</td>\n",
       "    </tr>\n",
       "    <tr>\n",
       "      <th>year</th>\n",
       "      <td>-0.004797</td>\n",
       "      <td>0.012021</td>\n",
       "      <td>-0.002482</td>\n",
       "      <td>-0.012548</td>\n",
       "      <td>0.061226</td>\n",
       "      <td>0.058540</td>\n",
       "      <td>-0.078606</td>\n",
       "      <td>-0.015221</td>\n",
       "      <td>1.000000</td>\n",
       "      <td>-0.004932</td>\n",
       "      <td>0.001800</td>\n",
       "      <td>-0.004234</td>\n",
       "    </tr>\n",
       "    <tr>\n",
       "      <th>month</th>\n",
       "      <td>0.971524</td>\n",
       "      <td>0.001731</td>\n",
       "      <td>-0.003394</td>\n",
       "      <td>0.012144</td>\n",
       "      <td>0.257589</td>\n",
       "      <td>0.264173</td>\n",
       "      <td>0.204537</td>\n",
       "      <td>-0.150192</td>\n",
       "      <td>-0.004932</td>\n",
       "      <td>1.000000</td>\n",
       "      <td>0.001974</td>\n",
       "      <td>-0.006818</td>\n",
       "    </tr>\n",
       "    <tr>\n",
       "      <th>day</th>\n",
       "      <td>0.001729</td>\n",
       "      <td>-0.015877</td>\n",
       "      <td>0.009829</td>\n",
       "      <td>-0.007890</td>\n",
       "      <td>0.015551</td>\n",
       "      <td>0.011866</td>\n",
       "      <td>-0.011335</td>\n",
       "      <td>0.036157</td>\n",
       "      <td>0.001800</td>\n",
       "      <td>0.001974</td>\n",
       "      <td>1.000000</td>\n",
       "      <td>0.001132</td>\n",
       "    </tr>\n",
       "    <tr>\n",
       "      <th>hour</th>\n",
       "      <td>-0.006546</td>\n",
       "      <td>-0.000354</td>\n",
       "      <td>0.002780</td>\n",
       "      <td>-0.022740</td>\n",
       "      <td>0.145430</td>\n",
       "      <td>0.140343</td>\n",
       "      <td>-0.278011</td>\n",
       "      <td>0.146631</td>\n",
       "      <td>-0.004234</td>\n",
       "      <td>-0.006818</td>\n",
       "      <td>0.001132</td>\n",
       "      <td>1.000000</td>\n",
       "    </tr>\n",
       "  </tbody>\n",
       "</table>\n",
       "</div>"
      ],
      "text/plain": [
       "             계절       공휴일       근무일        날씨        온도      체감온도        습도  \\\n",
       "계절     1.000000  0.029368 -0.008126  0.008879  0.258689  0.264744  0.190610   \n",
       "공휴일    0.029368  1.000000 -0.250491 -0.007074  0.000295 -0.005215  0.001929   \n",
       "근무일   -0.008126 -0.250491  1.000000  0.033772  0.029966  0.024660 -0.010880   \n",
       "날씨     0.008879 -0.007074  0.033772  1.000000 -0.055035 -0.055376  0.406244   \n",
       "온도     0.258689  0.000295  0.029966 -0.055035  1.000000  0.984948 -0.064949   \n",
       "체감온도   0.264744 -0.005215  0.024660 -0.055376  0.984948  1.000000 -0.043536   \n",
       "습도     0.190610  0.001929 -0.010880  0.406244 -0.064949 -0.043536  1.000000   \n",
       "풍속    -0.147121  0.008409  0.013373  0.007261 -0.017852 -0.057473 -0.318607   \n",
       "year  -0.004797  0.012021 -0.002482 -0.012548  0.061226  0.058540 -0.078606   \n",
       "month  0.971524  0.001731 -0.003394  0.012144  0.257589  0.264173  0.204537   \n",
       "day    0.001729 -0.015877  0.009829 -0.007890  0.015551  0.011866 -0.011335   \n",
       "hour  -0.006546 -0.000354  0.002780 -0.022740  0.145430  0.140343 -0.278011   \n",
       "\n",
       "             풍속      year     month       day      hour  \n",
       "계절    -0.147121 -0.004797  0.971524  0.001729 -0.006546  \n",
       "공휴일    0.008409  0.012021  0.001731 -0.015877 -0.000354  \n",
       "근무일    0.013373 -0.002482 -0.003394  0.009829  0.002780  \n",
       "날씨     0.007261 -0.012548  0.012144 -0.007890 -0.022740  \n",
       "온도    -0.017852  0.061226  0.257589  0.015551  0.145430  \n",
       "체감온도  -0.057473  0.058540  0.264173  0.011866  0.140343  \n",
       "습도    -0.318607 -0.078606  0.204537 -0.011335 -0.278011  \n",
       "풍속     1.000000 -0.015221 -0.150192  0.036157  0.146631  \n",
       "year  -0.015221  1.000000 -0.004932  0.001800 -0.004234  \n",
       "month -0.150192 -0.004932  1.000000  0.001974 -0.006818  \n",
       "day    0.036157  0.001800  0.001974  1.000000  0.001132  \n",
       "hour   0.146631 -0.004234 -0.006818  0.001132  1.000000  "
      ]
     },
     "execution_count": 65,
     "metadata": {},
     "output_type": "execute_result"
    }
   ],
   "source": [
    "x_train1.corr() ## 강한 상관관계(>= 0.6) : 계절-month, 온도-체감온도"
   ]
  },
  {
   "cell_type": "code",
   "execution_count": 66,
   "metadata": {
    "ExecuteTime": {
     "end_time": "2021-12-03T06:02:20.823371Z",
     "start_time": "2021-12-03T06:02:20.801449Z"
    }
   },
   "outputs": [],
   "source": [
    "# 다중공선성 제거\n",
    "x_train2 = x_train1.drop(columns=['month', '체감온도'])\n",
    "x_test2 = x_test1.drop(columns=['month', '체감온도'])"
   ]
  },
  {
   "cell_type": "code",
   "execution_count": 67,
   "metadata": {
    "ExecuteTime": {
     "end_time": "2021-12-03T06:02:29.498502Z",
     "start_time": "2021-12-03T06:02:29.479006Z"
    }
   },
   "outputs": [],
   "source": [
    "from sklearn.model_selection import train_test_split\n",
    "\n",
    "x_tr, x_val, y_tr, y_val = train_test_split(x_train2, y_train, test_size = 0.2, random_state = 123)"
   ]
  },
  {
   "cell_type": "code",
   "execution_count": 68,
   "metadata": {
    "ExecuteTime": {
     "end_time": "2021-12-03T06:02:41.508456Z",
     "start_time": "2021-12-03T06:02:34.537288Z"
    }
   },
   "outputs": [
    {
     "name": "stdout",
     "output_type": "stream",
     "text": [
      "0.9342735026650105\n"
     ]
    }
   ],
   "source": [
    "## 검증셋 예측&평가\n",
    "from sklearn.ensemble import RandomForestRegressor\n",
    "from sklearn.metrics import r2_score\n",
    "\n",
    "rf = RandomForestRegressor(random_state = 12)\n",
    "rf.fit(x_tr, y_tr)\n",
    "pred_v = rf.predict(x_val)\n",
    "score = r2_score(y_val, pred_v)\n",
    "\n",
    "print(score)"
   ]
  },
  {
   "cell_type": "code",
   "execution_count": 70,
   "metadata": {
    "ExecuteTime": {
     "end_time": "2021-12-03T06:04:51.335768Z",
     "start_time": "2021-12-03T06:04:42.871927Z"
    }
   },
   "outputs": [],
   "source": [
    "## 원본데이터 예측\n",
    "rf = RandomForestRegressor(random_state = 12)\n",
    "rf.fit(x_train2, y_train)\n",
    "pred = rf.predict(x_test2)"
   ]
  },
  {
   "cell_type": "code",
   "execution_count": 71,
   "metadata": {
    "ExecuteTime": {
     "end_time": "2021-12-03T06:05:13.903006Z",
     "start_time": "2021-12-03T06:05:13.820044Z"
    }
   },
   "outputs": [],
   "source": [
    "## 제출\n",
    "sub = pd.DataFrame({'datetime' : x_test['datetime'], 'count' : pred})\n",
    "sub.to_csv('00012314.csv', index = False)"
   ]
  },
  {
   "cell_type": "code",
   "execution_count": 73,
   "metadata": {
    "ExecuteTime": {
     "end_time": "2021-12-03T06:06:47.463075Z",
     "start_time": "2021-12-03T06:06:47.418591Z"
    }
   },
   "outputs": [
    {
     "name": "stdout",
     "output_type": "stream",
     "text": [
      "<class 'pandas.core.frame.DataFrame'>\n",
      "RangeIndex: 6493 entries, 0 to 6492\n",
      "Data columns (total 2 columns):\n",
      "datetime    6493 non-null object\n",
      "count       6493 non-null float64\n",
      "dtypes: float64(1), object(1)\n",
      "memory usage: 101.5+ KB\n",
      "None\n"
     ]
    }
   ],
   "source": [
    "## 제출 확인\n",
    "check = pd.read_csv('00012314.csv')\n",
    "print(check.info())"
   ]
  }
 ],
 "metadata": {
  "hide_input": false,
  "kernelspec": {
   "display_name": "Python 3",
   "language": "python",
   "name": "python3"
  },
  "language_info": {
   "codemirror_mode": {
    "name": "ipython",
    "version": 3
   },
   "file_extension": ".py",
   "mimetype": "text/x-python",
   "name": "python",
   "nbconvert_exporter": "python",
   "pygments_lexer": "ipython3",
   "version": "3.7.3"
  },
  "toc": {
   "base_numbering": 1,
   "nav_menu": {},
   "number_sections": true,
   "sideBar": true,
   "skip_h1_title": false,
   "title_cell": "Table of Contents",
   "title_sidebar": "Contents",
   "toc_cell": false,
   "toc_position": {},
   "toc_section_display": true,
   "toc_window_display": false
  },
  "varInspector": {
   "cols": {
    "lenName": 16,
    "lenType": 16,
    "lenVar": 40
   },
   "kernels_config": {
    "python": {
     "delete_cmd_postfix": "",
     "delete_cmd_prefix": "del ",
     "library": "var_list.py",
     "varRefreshCmd": "print(var_dic_list())"
    },
    "r": {
     "delete_cmd_postfix": ") ",
     "delete_cmd_prefix": "rm(",
     "library": "var_list.r",
     "varRefreshCmd": "cat(var_dic_list()) "
    }
   },
   "types_to_exclude": [
    "module",
    "function",
    "builtin_function_or_method",
    "instance",
    "_Feature"
   ],
   "window_display": false
  }
 },
 "nbformat": 4,
 "nbformat_minor": 2
}
